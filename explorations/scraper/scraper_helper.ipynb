{
 "cells": [
  {
   "cell_type": "code",
   "execution_count": 1,
   "id": "cfacb68c-a66b-4ab0-9d52-1309c075167b",
   "metadata": {},
   "outputs": [],
   "source": [
    "import os\n",
    "\n",
    "from dotenv import load_dotenv\n",
    "from langchain.chat_models import init_chat_model\n",
    "from langchain_google_vertexai import VertexAIEmbeddings\n",
    "from langchain_mongodb import MongoDBAtlasVectorSearch\n",
    "from pymongo import MongoClient\n",
    "from pymongo.errors import OperationFailure\n",
    "\n",
    "load_dotenv()\n",
    "\n",
    "llm = init_chat_model(\"gemini-2.0-flash-001\", model_provider=\"google_vertexai\")\n",
    "embeddings = VertexAIEmbeddings(model=\"text-embedding-004\")\n",
    "\n",
    "MONGODB_URI = os.getenv(\"MONGODB_URI\")\n",
    "MONGODB_DATABASE = os.getenv(\"MONGODB_DATABASE\")\n",
    "\n",
    "prefix = \"scraper_explorations\"\n",
    "\n",
    "client = MongoClient(MONGODB_URI)\n",
    "collection = client[MONGODB_DATABASE][prefix]\n",
    "\n",
    "vector_store = MongoDBAtlasVectorSearch(\n",
    "    embedding=embeddings,\n",
    "    collection=collection,\n",
    "    index_name=prefix,\n",
    "    relevance_score_fn=\"cosine\",\n",
    ")"
   ]
  },
  {
   "cell_type": "code",
   "execution_count": 2,
   "id": "ba14de67-a700-4585-b5f6-252118a00231",
   "metadata": {},
   "outputs": [
    {
     "name": "stdout",
     "output_type": "stream",
     "text": [
      "Operation failed, does the index already exist?\n",
      "\n",
      "Error: An index named \"scraper_explorations\" is already defined for collection scraper_explorations. Index names must be unique for a source collection and all its views., full error: {'ok': 0.0, 'errmsg': 'An index named \"scraper_explorations\" is already defined for collection scraper_explorations. Index names must be unique for a source collection and all its views.', 'code': 68, 'codeName': 'IndexAlreadyExists', '$clusterTime': {'clusterTime': Timestamp(1740842613, 1), 'signature': {'hash': b'\\xb2\\x016!i-)\"\\xaf\\x93G\\xb5\\x84\\xe0\\x1d\"\\x15\\xe4t\\x97', 'keyId': 7471843386673070085}}, 'operationTime': Timestamp(1740842613, 1)}\n"
     ]
    }
   ],
   "source": [
    "try:\n",
    "    vector_store.create_vector_search_index(dimensions=768)\n",
    "except OperationFailure as e:\n",
    "    print(f\"Operation failed, does the index already exist?\\n\\nError: {e}\")"
   ]
  },
  {
   "cell_type": "code",
   "execution_count": 3,
   "id": "2d0dc3b6-d617-42e0-a2d4-7ac5269de878",
   "metadata": {},
   "outputs": [],
   "source": [
    "client.close()"
   ]
  }
 ],
 "metadata": {
  "kernelspec": {
   "display_name": "Python 3 (ipykernel)",
   "language": "python",
   "name": "python3"
  },
  "language_info": {
   "codemirror_mode": {
    "name": "ipython",
    "version": 3
   },
   "file_extension": ".py",
   "mimetype": "text/x-python",
   "name": "python",
   "nbconvert_exporter": "python",
   "pygments_lexer": "ipython3",
   "version": "3.12.1"
  }
 },
 "nbformat": 4,
 "nbformat_minor": 5
}
