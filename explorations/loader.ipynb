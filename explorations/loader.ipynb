{
 "cells": [
  {
   "cell_type": "code",
   "execution_count": 1,
   "id": "fc9cf621-c55b-4cc4-a932-9542da0c1e6e",
   "metadata": {},
   "outputs": [
    {
     "data": {
      "text/plain": [
       "'mongodb_docs_bot'"
      ]
     },
     "execution_count": 1,
     "metadata": {},
     "output_type": "execute_result"
    }
   ],
   "source": [
    "import os\n",
    "\n",
    "from dotenv import load_dotenv\n",
    "from langchain_community.document_loaders import PyPDFLoader\n",
    "from langchain_core.documents import Document\n",
    "from langchain_google_vertexai import VertexAIEmbeddings\n",
    "from langchain_mongodb import MongoDBAtlasVectorSearch\n",
    "from langchain_text_splitters import RecursiveCharacterTextSplitter\n",
    "from pymongo import MongoClient\n",
    "\n",
    "load_dotenv()\n",
    "os.getenv(\"MONGODB_DATABASE\")"
   ]
  },
  {
   "cell_type": "code",
   "execution_count": 2,
   "id": "8eb2e682-d5dd-4a06-8f6b-abb404b3b02e",
   "metadata": {},
   "outputs": [],
   "source": [
    "# Ensure your VertexAI credentials are configured\n",
    "\n",
    "from langchain.chat_models import init_chat_model\n",
    "\n",
    "llm = init_chat_model(\"gemini-2.0-flash-001\", model_provider=\"google_vertexai\")\n",
    "embeddings = VertexAIEmbeddings(model=\"text-embedding-004\")"
   ]
  },
  {
   "cell_type": "code",
   "execution_count": 3,
   "id": "d7ba5b77-d655-4685-91e0-5aa1cd396507",
   "metadata": {},
   "outputs": [],
   "source": [
    "MONGODB_URI = os.getenv(\"MONGODB_URI\")\n",
    "MONGODB_DATABASE = os.getenv(\"MONGODB_DATABASE\")\n",
    "\n",
    "prefix = \"loader_explorations\"\n",
    "\n",
    "client = MongoClient(MONGODB_URI)\n",
    "collection = client[MONGODB_DATABASE][prefix]\n",
    "\n",
    "vector_store = MongoDBAtlasVectorSearch(\n",
    "    embedding=embeddings,\n",
    "    collection=collection,\n",
    "    index_name=prefix,\n",
    "    relevance_score_fn=\"cosine\",\n",
    ")"
   ]
  },
  {
   "cell_type": "code",
   "execution_count": 4,
   "id": "414d15e7-d587-4c86-be7c-6c0d36e8602c",
   "metadata": {},
   "outputs": [
    {
     "name": "stderr",
     "output_type": "stream",
     "text": [
      "USER_AGENT environment variable not set, consider setting it to identify your requests.\n"
     ]
    }
   ],
   "source": [
    "import bs4\n",
    "from langchain import hub\n",
    "from langchain_community.document_loaders import WebBaseLoader\n",
    "from langchain_core.documents import Document\n",
    "from langchain_text_splitters import RecursiveCharacterTextSplitter\n",
    "from typing_extensions import List, TypedDict\n",
    "\n",
    "# Load and chunk contents of the blog\n",
    "loader = WebBaseLoader(\n",
    "    web_paths=(\n",
    "        \"https://www.mongodb.com/docs/atlas/reference/atlas-limits/\",\n",
    "        \"https://www.mongodb.com/docs/atlas/reference/flex-limitations/\",\n",
    "        \"https://www.mongodb.com/docs/atlas/reference/free-shared-limitations/\",\n",
    "    ),\n",
    ")\n",
    "docs = loader.load()\n",
    "\n",
    "text_splitter = RecursiveCharacterTextSplitter(chunk_size=1000, chunk_overlap=200)\n",
    "all_splits = text_splitter.split_documents(docs)"
   ]
  },
  {
   "cell_type": "code",
   "execution_count": 5,
   "id": "8fc0d7bb-020f-470e-b67c-2488373908cf",
   "metadata": {},
   "outputs": [
    {
     "name": "stdout",
     "output_type": "stream",
     "text": [
      "Generated vectors of length 768\n",
      "\n"
     ]
    }
   ],
   "source": [
    "vector_1 = embeddings.embed_query(all_splits[0].page_content)\n",
    "vector_2 = embeddings.embed_query(all_splits[1].page_content)\n",
    "\n",
    "assert len(vector_1) == len(vector_2)\n",
    "print(f\"Generated vectors of length {len(vector_1)}\\n\")"
   ]
  },
  {
   "cell_type": "code",
   "execution_count": 6,
   "id": "bc472fd8-6ea6-4cfc-ac95-ccb92f92e4e8",
   "metadata": {},
   "outputs": [],
   "source": [
    "# vector_store.create_vector_search_index(dimensions=len(vector_1))\n",
    "# _ = vector_store.add_documents(documents=all_splits)"
   ]
  },
  {
   "cell_type": "code",
   "execution_count": 7,
   "id": "dff0a5c1-3354-4999-89d7-5b6f7ac5f7a8",
   "metadata": {},
   "outputs": [
    {
     "name": "stdout",
     "output_type": "stream",
     "text": [
      "Score: 0.8526841998100281\n",
      "\n",
      "page_content='cluster, the performance of a cluster might degrade if it serves a large\n",
      "number of collections and indexes. Larger collections have a greater\n",
      "impact on performance.The recommended maximum combined number of collections and indexes by\n",
      "Atlas cluster tier are as follows:Cluster tierRecommended maximumM105,000 collections and indexesM20 / M3010,000 collections and indexesM40+100,000 collections and indexesIncrease Collection and Index LimitsIf you need to increase the number of collections or indexes in your Atlas\n",
      "cluster, consider upgrading your cluster tier.Organization and Project LimitsComponentLimitDatabase Users per\n",
      "Atlas Project100Atlas Users per\n",
      "Atlas Project500Atlas Users per\n",
      "Atlas Organization500API Keys per Atlas Organization500Access List Entries per\n",
      "Atlas Project200Users per Atlas Team250Teams per Atlas Project100Teams per Atlas Organization250Teams per Atlas User100Organizations per Atlas User250Linked Organizations per' metadata={'_id': '67c282bd355d0d848e15f326', 'source': 'https://www.mongodb.com/docs/atlas/reference/atlas-limits/', 'title': 'Atlas Service Limits - MongoDB Atlas - MongoDB Docs', 'language': 'en'}\n"
     ]
    }
   ],
   "source": [
    "results = vector_store.similarity_search_with_score(\n",
    "    \"What is the limit of organizations per Atlas user?\"\n",
    ")\n",
    "doc, score = results[0]\n",
    "print(f\"Score: {score}\\n\")\n",
    "print(doc)"
   ]
  },
  {
   "cell_type": "code",
   "execution_count": 8,
   "id": "adc0dfc8-5f58-4b42-8eef-9b113902dc95",
   "metadata": {},
   "outputs": [
    {
     "name": "stdout",
     "output_type": "stream",
     "text": [
      "You are an assistant for question-answering tasks. Use the following pieces of retrieved context to answer the question. If you don't know the answer, just say that you don't know. Use three sentences maximum and keep the answer concise.\n",
      "Question: (question goes here) \n",
      "Context: (context goes here) \n",
      "Answer:\n"
     ]
    },
    {
     "name": "stderr",
     "output_type": "stream",
     "text": [
      "/Users/charlie.xu/code/mongodb_docs_bot/venv/lib/python3.12/site-packages/langsmith/client.py:253: LangSmithMissingAPIKeyWarning: API key must be provided when using hosted LangSmith API\n",
      "  warnings.warn(\n"
     ]
    }
   ],
   "source": [
    "from langchain import hub\n",
    "\n",
    "prompt = hub.pull(\"rlm/rag-prompt\")\n",
    "\n",
    "example_messages = prompt.invoke(\n",
    "    {\"context\": \"(context goes here)\", \"question\": \"(question goes here)\"}\n",
    ").to_messages()\n",
    "\n",
    "assert len(example_messages) == 1\n",
    "print(example_messages[0].content)"
   ]
  },
  {
   "cell_type": "code",
   "execution_count": 9,
   "id": "07c3cb88-0e4a-4846-84ea-4eb91026d52a",
   "metadata": {},
   "outputs": [],
   "source": [
    "from langchain_core.documents import Document\n",
    "from typing_extensions import List, TypedDict\n",
    "\n",
    "\n",
    "class State(TypedDict):\n",
    "    question: str\n",
    "    context: List[Document]\n",
    "    answer: str\n",
    "\n",
    "\n",
    "def retrieve(state: State):\n",
    "    retrieved_docs = vector_store.similarity_search(state[\"question\"])\n",
    "    return {\"context\": retrieved_docs}\n",
    "\n",
    "\n",
    "def generate(state: State):\n",
    "    docs_content = \"\\n\\n\".join(doc.page_content for doc in state[\"context\"])\n",
    "    messages = prompt.invoke({\"question\": state[\"question\"], \"context\": docs_content})\n",
    "    response = llm.invoke(messages)\n",
    "    return {\"answer\": response.content}"
   ]
  },
  {
   "cell_type": "code",
   "execution_count": 10,
   "id": "164daeb1-113d-4116-8565-15a883c9c469",
   "metadata": {},
   "outputs": [
    {
     "data": {
      "image/png": "[encoded data removed]",
      "text/plain": [
       "<IPython.core.display.Image object>"
      ]
     },
     "metadata": {},
     "output_type": "display_data"
    }
   ],
   "source": [
    "from IPython.display import Image, display\n",
    "from langgraph.graph import START, StateGraph\n",
    "\n",
    "graph_builder = StateGraph(State).add_sequence([retrieve, generate])\n",
    "graph_builder.add_edge(START, \"retrieve\")\n",
    "graph = graph_builder.compile()\n",
    "\n",
    "\n",
    "display(Image(graph.get_graph().draw_mermaid_png()))"
   ]
  },
  {
   "cell_type": "code",
   "execution_count": 11,
   "id": "e6add736-86ab-45e8-963e-be4bc6123ac5",
   "metadata": {},
   "outputs": [
    {
     "name": "stdout",
     "output_type": "stream",
     "text": [
      "Answer: The limit of organizations per Atlas user is 250. This is according to the Atlas Service Limits documentation. The documentation also lists limits for other components like projects, teams and API keys.\n",
      "\n",
      "Context: [Document(metadata={'_id': '67c282bd355d0d848e15f326', 'source': 'https://www.mongodb.com/docs/atlas/reference/atlas-limits/', 'title': 'Atlas Service Limits - MongoDB Atlas - MongoDB Docs', 'language': 'en'}, page_content='cluster, the performance of a cluster might degrade if it serves a large\\nnumber of collections and indexes. Larger collections have a greater\\nimpact on performance.The recommended maximum combined number of collections and indexes by\\nAtlas cluster tier are as follows:Cluster tierRecommended maximumM105,000 collections and indexesM20 / M3010,000 collections and indexesM40+100,000 collections and indexesIncrease Collection and Index LimitsIf you need to increase the number of collections or indexes in your Atlas\\ncluster, consider upgrading your cluster tier.Organization and Project LimitsComponentLimitDatabase Users per\\nAtlas Project100Atlas Users per\\nAtlas Project500Atlas Users per\\nAtlas Organization500API Keys per Atlas Organization500Access List Entries per\\nAtlas Project200Users per Atlas Team250Teams per Atlas Project100Teams per Atlas Organization250Teams per Atlas User100Organizations per Atlas User250Linked Organizations per'), Document(metadata={'_id': '67c282bd355d0d848e15f327', 'source': 'https://www.mongodb.com/docs/atlas/reference/atlas-limits/', 'title': 'Atlas Service Limits - MongoDB Atlas - MongoDB Docs', 'language': 'en'}, page_content='Atlas Project200Users per Atlas Team250Teams per Atlas Project100Teams per Atlas Organization250Teams per Atlas User100Organizations per Atlas User250Linked Organizations per\\nAtlas Paying Organization50Clusters per Atlas Project25 Projects per Atlas User250Projects per Atlas Organization250Custom MongoDB roles per\\nAtlas Project100Assigned Roles per Database User100Federated database instances per\\nAtlas Project25Total Network Peering Connections per Atlas\\nProject50Atlas limits the number of nodes per\\nNetwork Peering connection based on the\\nCIDR block and the\\nregion selected for the\\nproject.Pending Network Peering Connections per Atlas\\nProject25AWS PrivateLink Addressable Targets per\\nRegion50Azure Private Link Addressable Targets per\\nRegion150Google Cloud GCP Private Service Connect Addressable\\nTargets per Region50Global Cluster shard keys per Atlas\\nProject40 You can deploy only one M0 cluster per\\nproject. However, if you have sales contracts with MongoDB, you might'), Document(metadata={'_id': '67c282bd355d0d848e15f322', 'source': 'https://www.mongodb.com/docs/atlas/reference/atlas-limits/', 'title': 'Atlas Service Limits - MongoDB Atlas - MongoDB Docs', 'language': 'en'}, page_content='ProvidersLimitsService LimitsAtlas Flex LimitsServerless LimitsM0, M2, and M5 LimitsUnsupported CommandsSupported CommandsOplog AccessEvent TypesHost MetricsSupported BrowsersFrequently Asked QuestionsGlossaryGet HelpProduction NotesRelease NotesDocs MenuAsk MongoDB AIRate This PageDocs Home / MongoDB Atlas / Reference / LimitsAtlas Service LimitsOn this pageCluster LimitsConnection Limits and Cluster TierCollection and Index LimitsOrganization and Project LimitsLabel LimitsDatabase User Privilege LimitsMulti-Cloud Deployment LimitsAtlas limits how many of each kind of component you can create, and'), Document(metadata={'_id': '67c282bd355d0d848e15f31c', 'source': 'https://www.mongodb.com/docs/atlas/reference/atlas-limits/', 'title': 'Atlas Service Limits - MongoDB Atlas - MongoDB Docs', 'language': 'en'}, page_content='Atlas Service Limits - MongoDB Atlas - MongoDB DocsProductsPlatformAtlasBuild on a developer data platformPlatform ServicesDatabaseDeploy a multi-cloud databaseSearchDeliver engaging search experiencesVector SearchDesign intelligent apps with gen AIStream ProcessingUnify data in motion and data at restSelf ManagedEnterprise AdvancedRun and manage MongoDB yourselfCommunity EditionDevelop locally with MongoDBToolsCompassWork with MongoDB data in a GUIIntegrationsIntegrations with third-party servicesRelational MigratorMigrate to MongoDB with confidenceView All ProductsExplore our full developer suitearrow-rightBuild with MongoDB AtlasGet started for free in minutesSign UpTest Enterprise AdvancedDevelop with MongoDB on-premisesDownloadTry Community EditionExplore the latest version of MongoDBDownloadResourcesDocumentationAtlas DocumentationGet started using AtlasServer DocumentationLearn to use MongoDBStart With GuidesGet step-by-step guidance for key tasks Tools and ConnectorsLearn how')]\n",
      "\n",
      "\n"
     ]
    }
   ],
   "source": [
    "result = graph.invoke(\n",
    "    {\"question\": \"What is the limit of organizations per Atlas user?\"}\n",
    ")\n",
    "\n",
    "print(f'Answer: {result[\"answer\"]}')\n",
    "print(f'Context: {result[\"context\"]}\\n\\n')"
   ]
  },
  {
   "cell_type": "code",
   "execution_count": 12,
   "id": "d211ac7d-9ec3-4261-9649-193f9e216f8a",
   "metadata": {},
   "outputs": [],
   "source": [
    "client.close()"
   ]
  }
 ],
 "metadata": {
  "kernelspec": {
   "display_name": "Python 3 (ipykernel)",
   "language": "python",
   "name": "python3"
  },
  "language_info": {
   "codemirror_mode": {
    "name": "ipython",
    "version": 3
   },
   "file_extension": ".py",
   "mimetype": "text/x-python",
   "name": "python",
   "nbconvert_exporter": "python",
   "pygments_lexer": "ipython3",
   "version": "3.12.1"
  }
 },
 "nbformat": 4,
 "nbformat_minor": 5
}
